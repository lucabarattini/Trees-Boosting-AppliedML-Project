{
  "nbformat": 4,
  "nbformat_minor": 0,
  "metadata": {
    "colab": {
      "provenance": [],
      "authorship_tag": "ABX9TyNy1E5pq0lCcZECz/+K0rWe",
      "include_colab_link": true
    },
    "kernelspec": {
      "name": "python3",
      "display_name": "Python 3"
    },
    "language_info": {
      "name": "python"
    }
  },
  "cells": [
    {
      "cell_type": "markdown",
      "metadata": {
        "id": "view-in-github",
        "colab_type": "text"
      },
      "source": [
        "<a href=\"https://colab.research.google.com/github/lucabarattini/Trees-Boosting-AppliedML-Project/blob/main/Luca_Barattini_%7C_LB3656_%7C_Applied_Machine_Learning_Assignment_2_%7C_Trees_and_Boosting.ipynb\" target=\"_parent\"><img src=\"https://colab.research.google.com/assets/colab-badge.svg\" alt=\"Open In Colab\"/></a>"
      ]
    },
    {
      "cell_type": "markdown",
      "source": [
        "## COMSW4995 - Applied Machine Learning\n",
        "\n",
        "\n",
        "---\n",
        "\n",
        "\n",
        "### Luca Barattini - @lb3656:\n",
        "\n",
        "\n",
        "---\n",
        "\n",
        "\n",
        "### Project description and goal:\n",
        "The goal of the project is to explore the intricate power of Boosting methods. We will move beyond the implementation of a single model and investigate how Boosting approaches can improve generalization by correcting residual errors in sequential learners.\n",
        "\n",
        "\n",
        "---\n",
        "\n",
        "\n",
        "### Dataset description and problem scoping:\n",
        "The data is related with direct marketing campaigns of a Portuguese banking institution. The marketing campaigns were based on phone calls. Often, more than one contact to the same client was required, in order to access if the product (bank term deposit) would be ('yes') or not ('no') subscribed.\n",
        "\n",
        "The classification goal is to predict if the client will subscribe (yes/no) a term deposit (variable y).\n",
        "\n",
        "\n",
        "---\n",
        "\n",
        "\n",
        "### Now, let's start by importing our libraries:\n",
        "\n",
        "\n",
        "\n"
      ],
      "metadata": {
        "id": "Em8T_HGHHGIF"
      }
    },
    {
      "cell_type": "code",
      "execution_count": 1,
      "metadata": {
        "id": "L7GDbKDAF35I"
      },
      "outputs": [],
      "source": [
        "import numpy as np\n",
        "import pandas as pd\n",
        "import numpy as np, matplotlib.pyplot as plt, math\n",
        "import seaborn as sns\n",
        "\n",
        "from matplotlib import cm\n",
        "from matplotlib.ticker import PercentFormatter\n",
        "\n",
        "\n",
        "import numpy as np, pandas as pd, matplotlib.pyplot as plt\n",
        "from sklearn.compose import ColumnTransformer\n",
        "from sklearn.preprocessing import OneHotEncoder\n",
        "from sklearn.pipeline import Pipeline\n",
        "from sklearn.tree import DecisionTreeClassifier\n",
        "from sklearn.model_selection import GridSearchCV, StratifiedKFold\n",
        "from sklearn.metrics import accuracy_score\n",
        "\n",
        "from sklearn.tree import DecisionTreeClassifier\n",
        "import matplotlib.pyplot as plt\n",
        "\n",
        "pd.set_option('display.max_columns', None)"
      ]
    },
    {
      "cell_type": "code",
      "source": [
        "df = pd.read_csv('bank-additional-full.csv', delimiter=\";\")\n",
        "df.head()"
      ],
      "metadata": {
        "id": "IqmR_rMeHRq3",
        "colab": {
          "base_uri": "https://localhost:8080/",
          "height": 206
        },
        "outputId": "8a64ab48-81ad-4e0a-b192-170f8df484c5"
      },
      "execution_count": 2,
      "outputs": [
        {
          "output_type": "execute_result",
          "data": {
            "text/plain": [
              "   age        job  marital    education  default housing loan    contact  \\\n",
              "0   56  housemaid  married     basic.4y       no      no   no  telephone   \n",
              "1   57   services  married  high.school  unknown      no   no  telephone   \n",
              "2   37   services  married  high.school       no     yes   no  telephone   \n",
              "3   40     admin.  married     basic.6y       no      no   no  telephone   \n",
              "4   56   services  married  high.school       no      no  yes  telephone   \n",
              "\n",
              "  month day_of_week  duration  campaign  pdays  previous     poutcome  \\\n",
              "0   may         mon       261         1    999         0  nonexistent   \n",
              "1   may         mon       149         1    999         0  nonexistent   \n",
              "2   may         mon       226         1    999         0  nonexistent   \n",
              "3   may         mon       151         1    999         0  nonexistent   \n",
              "4   may         mon       307         1    999         0  nonexistent   \n",
              "\n",
              "   emp.var.rate  cons.price.idx  cons.conf.idx  euribor3m  nr.employed   y  \n",
              "0           1.1          93.994          -36.4      4.857       5191.0  no  \n",
              "1           1.1          93.994          -36.4      4.857       5191.0  no  \n",
              "2           1.1          93.994          -36.4      4.857       5191.0  no  \n",
              "3           1.1          93.994          -36.4      4.857       5191.0  no  \n",
              "4           1.1          93.994          -36.4      4.857       5191.0  no  "
            ],
            "text/html": [
              "\n",
              "  <div id=\"df-5aff7c65-3225-4a70-94cb-ec03bd3c2df6\" class=\"colab-df-container\">\n",
              "    <div>\n",
              "<style scoped>\n",
              "    .dataframe tbody tr th:only-of-type {\n",
              "        vertical-align: middle;\n",
              "    }\n",
              "\n",
              "    .dataframe tbody tr th {\n",
              "        vertical-align: top;\n",
              "    }\n",
              "\n",
              "    .dataframe thead th {\n",
              "        text-align: right;\n",
              "    }\n",
              "</style>\n",
              "<table border=\"1\" class=\"dataframe\">\n",
              "  <thead>\n",
              "    <tr style=\"text-align: right;\">\n",
              "      <th></th>\n",
              "      <th>age</th>\n",
              "      <th>job</th>\n",
              "      <th>marital</th>\n",
              "      <th>education</th>\n",
              "      <th>default</th>\n",
              "      <th>housing</th>\n",
              "      <th>loan</th>\n",
              "      <th>contact</th>\n",
              "      <th>month</th>\n",
              "      <th>day_of_week</th>\n",
              "      <th>duration</th>\n",
              "      <th>campaign</th>\n",
              "      <th>pdays</th>\n",
              "      <th>previous</th>\n",
              "      <th>poutcome</th>\n",
              "      <th>emp.var.rate</th>\n",
              "      <th>cons.price.idx</th>\n",
              "      <th>cons.conf.idx</th>\n",
              "      <th>euribor3m</th>\n",
              "      <th>nr.employed</th>\n",
              "      <th>y</th>\n",
              "    </tr>\n",
              "  </thead>\n",
              "  <tbody>\n",
              "    <tr>\n",
              "      <th>0</th>\n",
              "      <td>56</td>\n",
              "      <td>housemaid</td>\n",
              "      <td>married</td>\n",
              "      <td>basic.4y</td>\n",
              "      <td>no</td>\n",
              "      <td>no</td>\n",
              "      <td>no</td>\n",
              "      <td>telephone</td>\n",
              "      <td>may</td>\n",
              "      <td>mon</td>\n",
              "      <td>261</td>\n",
              "      <td>1</td>\n",
              "      <td>999</td>\n",
              "      <td>0</td>\n",
              "      <td>nonexistent</td>\n",
              "      <td>1.1</td>\n",
              "      <td>93.994</td>\n",
              "      <td>-36.4</td>\n",
              "      <td>4.857</td>\n",
              "      <td>5191.0</td>\n",
              "      <td>no</td>\n",
              "    </tr>\n",
              "    <tr>\n",
              "      <th>1</th>\n",
              "      <td>57</td>\n",
              "      <td>services</td>\n",
              "      <td>married</td>\n",
              "      <td>high.school</td>\n",
              "      <td>unknown</td>\n",
              "      <td>no</td>\n",
              "      <td>no</td>\n",
              "      <td>telephone</td>\n",
              "      <td>may</td>\n",
              "      <td>mon</td>\n",
              "      <td>149</td>\n",
              "      <td>1</td>\n",
              "      <td>999</td>\n",
              "      <td>0</td>\n",
              "      <td>nonexistent</td>\n",
              "      <td>1.1</td>\n",
              "      <td>93.994</td>\n",
              "      <td>-36.4</td>\n",
              "      <td>4.857</td>\n",
              "      <td>5191.0</td>\n",
              "      <td>no</td>\n",
              "    </tr>\n",
              "    <tr>\n",
              "      <th>2</th>\n",
              "      <td>37</td>\n",
              "      <td>services</td>\n",
              "      <td>married</td>\n",
              "      <td>high.school</td>\n",
              "      <td>no</td>\n",
              "      <td>yes</td>\n",
              "      <td>no</td>\n",
              "      <td>telephone</td>\n",
              "      <td>may</td>\n",
              "      <td>mon</td>\n",
              "      <td>226</td>\n",
              "      <td>1</td>\n",
              "      <td>999</td>\n",
              "      <td>0</td>\n",
              "      <td>nonexistent</td>\n",
              "      <td>1.1</td>\n",
              "      <td>93.994</td>\n",
              "      <td>-36.4</td>\n",
              "      <td>4.857</td>\n",
              "      <td>5191.0</td>\n",
              "      <td>no</td>\n",
              "    </tr>\n",
              "    <tr>\n",
              "      <th>3</th>\n",
              "      <td>40</td>\n",
              "      <td>admin.</td>\n",
              "      <td>married</td>\n",
              "      <td>basic.6y</td>\n",
              "      <td>no</td>\n",
              "      <td>no</td>\n",
              "      <td>no</td>\n",
              "      <td>telephone</td>\n",
              "      <td>may</td>\n",
              "      <td>mon</td>\n",
              "      <td>151</td>\n",
              "      <td>1</td>\n",
              "      <td>999</td>\n",
              "      <td>0</td>\n",
              "      <td>nonexistent</td>\n",
              "      <td>1.1</td>\n",
              "      <td>93.994</td>\n",
              "      <td>-36.4</td>\n",
              "      <td>4.857</td>\n",
              "      <td>5191.0</td>\n",
              "      <td>no</td>\n",
              "    </tr>\n",
              "    <tr>\n",
              "      <th>4</th>\n",
              "      <td>56</td>\n",
              "      <td>services</td>\n",
              "      <td>married</td>\n",
              "      <td>high.school</td>\n",
              "      <td>no</td>\n",
              "      <td>no</td>\n",
              "      <td>yes</td>\n",
              "      <td>telephone</td>\n",
              "      <td>may</td>\n",
              "      <td>mon</td>\n",
              "      <td>307</td>\n",
              "      <td>1</td>\n",
              "      <td>999</td>\n",
              "      <td>0</td>\n",
              "      <td>nonexistent</td>\n",
              "      <td>1.1</td>\n",
              "      <td>93.994</td>\n",
              "      <td>-36.4</td>\n",
              "      <td>4.857</td>\n",
              "      <td>5191.0</td>\n",
              "      <td>no</td>\n",
              "    </tr>\n",
              "  </tbody>\n",
              "</table>\n",
              "</div>\n",
              "    <div class=\"colab-df-buttons\">\n",
              "\n",
              "  <div class=\"colab-df-container\">\n",
              "    <button class=\"colab-df-convert\" onclick=\"convertToInteractive('df-5aff7c65-3225-4a70-94cb-ec03bd3c2df6')\"\n",
              "            title=\"Convert this dataframe to an interactive table.\"\n",
              "            style=\"display:none;\">\n",
              "\n",
              "  <svg xmlns=\"http://www.w3.org/2000/svg\" height=\"24px\" viewBox=\"0 -960 960 960\">\n",
              "    <path d=\"M120-120v-720h720v720H120Zm60-500h600v-160H180v160Zm220 220h160v-160H400v160Zm0 220h160v-160H400v160ZM180-400h160v-160H180v160Zm440 0h160v-160H620v160ZM180-180h160v-160H180v160Zm440 0h160v-160H620v160Z\"/>\n",
              "  </svg>\n",
              "    </button>\n",
              "\n",
              "  <style>\n",
              "    .colab-df-container {\n",
              "      display:flex;\n",
              "      gap: 12px;\n",
              "    }\n",
              "\n",
              "    .colab-df-convert {\n",
              "      background-color: #E8F0FE;\n",
              "      border: none;\n",
              "      border-radius: 50%;\n",
              "      cursor: pointer;\n",
              "      display: none;\n",
              "      fill: #1967D2;\n",
              "      height: 32px;\n",
              "      padding: 0 0 0 0;\n",
              "      width: 32px;\n",
              "    }\n",
              "\n",
              "    .colab-df-convert:hover {\n",
              "      background-color: #E2EBFA;\n",
              "      box-shadow: 0px 1px 2px rgba(60, 64, 67, 0.3), 0px 1px 3px 1px rgba(60, 64, 67, 0.15);\n",
              "      fill: #174EA6;\n",
              "    }\n",
              "\n",
              "    .colab-df-buttons div {\n",
              "      margin-bottom: 4px;\n",
              "    }\n",
              "\n",
              "    [theme=dark] .colab-df-convert {\n",
              "      background-color: #3B4455;\n",
              "      fill: #D2E3FC;\n",
              "    }\n",
              "\n",
              "    [theme=dark] .colab-df-convert:hover {\n",
              "      background-color: #434B5C;\n",
              "      box-shadow: 0px 1px 3px 1px rgba(0, 0, 0, 0.15);\n",
              "      filter: drop-shadow(0px 1px 2px rgba(0, 0, 0, 0.3));\n",
              "      fill: #FFFFFF;\n",
              "    }\n",
              "  </style>\n",
              "\n",
              "    <script>\n",
              "      const buttonEl =\n",
              "        document.querySelector('#df-5aff7c65-3225-4a70-94cb-ec03bd3c2df6 button.colab-df-convert');\n",
              "      buttonEl.style.display =\n",
              "        google.colab.kernel.accessAllowed ? 'block' : 'none';\n",
              "\n",
              "      async function convertToInteractive(key) {\n",
              "        const element = document.querySelector('#df-5aff7c65-3225-4a70-94cb-ec03bd3c2df6');\n",
              "        const dataTable =\n",
              "          await google.colab.kernel.invokeFunction('convertToInteractive',\n",
              "                                                    [key], {});\n",
              "        if (!dataTable) return;\n",
              "\n",
              "        const docLinkHtml = 'Like what you see? Visit the ' +\n",
              "          '<a target=\"_blank\" href=https://colab.research.google.com/notebooks/data_table.ipynb>data table notebook</a>'\n",
              "          + ' to learn more about interactive tables.';\n",
              "        element.innerHTML = '';\n",
              "        dataTable['output_type'] = 'display_data';\n",
              "        await google.colab.output.renderOutput(dataTable, element);\n",
              "        const docLink = document.createElement('div');\n",
              "        docLink.innerHTML = docLinkHtml;\n",
              "        element.appendChild(docLink);\n",
              "      }\n",
              "    </script>\n",
              "  </div>\n",
              "\n",
              "\n",
              "    <div id=\"df-b8ba5003-6f18-468a-8c90-bb090a0f3063\">\n",
              "      <button class=\"colab-df-quickchart\" onclick=\"quickchart('df-b8ba5003-6f18-468a-8c90-bb090a0f3063')\"\n",
              "                title=\"Suggest charts\"\n",
              "                style=\"display:none;\">\n",
              "\n",
              "<svg xmlns=\"http://www.w3.org/2000/svg\" height=\"24px\"viewBox=\"0 0 24 24\"\n",
              "     width=\"24px\">\n",
              "    <g>\n",
              "        <path d=\"M19 3H5c-1.1 0-2 .9-2 2v14c0 1.1.9 2 2 2h14c1.1 0 2-.9 2-2V5c0-1.1-.9-2-2-2zM9 17H7v-7h2v7zm4 0h-2V7h2v10zm4 0h-2v-4h2v4z\"/>\n",
              "    </g>\n",
              "</svg>\n",
              "      </button>\n",
              "\n",
              "<style>\n",
              "  .colab-df-quickchart {\n",
              "      --bg-color: #E8F0FE;\n",
              "      --fill-color: #1967D2;\n",
              "      --hover-bg-color: #E2EBFA;\n",
              "      --hover-fill-color: #174EA6;\n",
              "      --disabled-fill-color: #AAA;\n",
              "      --disabled-bg-color: #DDD;\n",
              "  }\n",
              "\n",
              "  [theme=dark] .colab-df-quickchart {\n",
              "      --bg-color: #3B4455;\n",
              "      --fill-color: #D2E3FC;\n",
              "      --hover-bg-color: #434B5C;\n",
              "      --hover-fill-color: #FFFFFF;\n",
              "      --disabled-bg-color: #3B4455;\n",
              "      --disabled-fill-color: #666;\n",
              "  }\n",
              "\n",
              "  .colab-df-quickchart {\n",
              "    background-color: var(--bg-color);\n",
              "    border: none;\n",
              "    border-radius: 50%;\n",
              "    cursor: pointer;\n",
              "    display: none;\n",
              "    fill: var(--fill-color);\n",
              "    height: 32px;\n",
              "    padding: 0;\n",
              "    width: 32px;\n",
              "  }\n",
              "\n",
              "  .colab-df-quickchart:hover {\n",
              "    background-color: var(--hover-bg-color);\n",
              "    box-shadow: 0 1px 2px rgba(60, 64, 67, 0.3), 0 1px 3px 1px rgba(60, 64, 67, 0.15);\n",
              "    fill: var(--button-hover-fill-color);\n",
              "  }\n",
              "\n",
              "  .colab-df-quickchart-complete:disabled,\n",
              "  .colab-df-quickchart-complete:disabled:hover {\n",
              "    background-color: var(--disabled-bg-color);\n",
              "    fill: var(--disabled-fill-color);\n",
              "    box-shadow: none;\n",
              "  }\n",
              "\n",
              "  .colab-df-spinner {\n",
              "    border: 2px solid var(--fill-color);\n",
              "    border-color: transparent;\n",
              "    border-bottom-color: var(--fill-color);\n",
              "    animation:\n",
              "      spin 1s steps(1) infinite;\n",
              "  }\n",
              "\n",
              "  @keyframes spin {\n",
              "    0% {\n",
              "      border-color: transparent;\n",
              "      border-bottom-color: var(--fill-color);\n",
              "      border-left-color: var(--fill-color);\n",
              "    }\n",
              "    20% {\n",
              "      border-color: transparent;\n",
              "      border-left-color: var(--fill-color);\n",
              "      border-top-color: var(--fill-color);\n",
              "    }\n",
              "    30% {\n",
              "      border-color: transparent;\n",
              "      border-left-color: var(--fill-color);\n",
              "      border-top-color: var(--fill-color);\n",
              "      border-right-color: var(--fill-color);\n",
              "    }\n",
              "    40% {\n",
              "      border-color: transparent;\n",
              "      border-right-color: var(--fill-color);\n",
              "      border-top-color: var(--fill-color);\n",
              "    }\n",
              "    60% {\n",
              "      border-color: transparent;\n",
              "      border-right-color: var(--fill-color);\n",
              "    }\n",
              "    80% {\n",
              "      border-color: transparent;\n",
              "      border-right-color: var(--fill-color);\n",
              "      border-bottom-color: var(--fill-color);\n",
              "    }\n",
              "    90% {\n",
              "      border-color: transparent;\n",
              "      border-bottom-color: var(--fill-color);\n",
              "    }\n",
              "  }\n",
              "</style>\n",
              "\n",
              "      <script>\n",
              "        async function quickchart(key) {\n",
              "          const quickchartButtonEl =\n",
              "            document.querySelector('#' + key + ' button');\n",
              "          quickchartButtonEl.disabled = true;  // To prevent multiple clicks.\n",
              "          quickchartButtonEl.classList.add('colab-df-spinner');\n",
              "          try {\n",
              "            const charts = await google.colab.kernel.invokeFunction(\n",
              "                'suggestCharts', [key], {});\n",
              "          } catch (error) {\n",
              "            console.error('Error during call to suggestCharts:', error);\n",
              "          }\n",
              "          quickchartButtonEl.classList.remove('colab-df-spinner');\n",
              "          quickchartButtonEl.classList.add('colab-df-quickchart-complete');\n",
              "        }\n",
              "        (() => {\n",
              "          let quickchartButtonEl =\n",
              "            document.querySelector('#df-b8ba5003-6f18-468a-8c90-bb090a0f3063 button');\n",
              "          quickchartButtonEl.style.display =\n",
              "            google.colab.kernel.accessAllowed ? 'block' : 'none';\n",
              "        })();\n",
              "      </script>\n",
              "    </div>\n",
              "\n",
              "    </div>\n",
              "  </div>\n"
            ],
            "application/vnd.google.colaboratory.intrinsic+json": {
              "type": "dataframe",
              "variable_name": "df"
            }
          },
          "metadata": {},
          "execution_count": 2
        }
      ]
    },
    {
      "cell_type": "markdown",
      "source": [
        "### Let's explore the data types and possible null values:"
      ],
      "metadata": {
        "id": "H5UiVmH7ORbC"
      }
    },
    {
      "cell_type": "code",
      "source": [
        "df.info()\n",
        "print('*'*150)\n",
        "print(df.isnull().sum())\n",
        "print('*'*150)"
      ],
      "metadata": {
        "colab": {
          "base_uri": "https://localhost:8080/"
        },
        "id": "tiNjgTgBOPzs",
        "outputId": "c413794b-2100-4ebf-a9b0-42ebf52842be"
      },
      "execution_count": 3,
      "outputs": [
        {
          "output_type": "stream",
          "name": "stdout",
          "text": [
            "<class 'pandas.core.frame.DataFrame'>\n",
            "RangeIndex: 41188 entries, 0 to 41187\n",
            "Data columns (total 21 columns):\n",
            " #   Column          Non-Null Count  Dtype  \n",
            "---  ------          --------------  -----  \n",
            " 0   age             41188 non-null  int64  \n",
            " 1   job             41188 non-null  object \n",
            " 2   marital         41188 non-null  object \n",
            " 3   education       41188 non-null  object \n",
            " 4   default         41188 non-null  object \n",
            " 5   housing         41188 non-null  object \n",
            " 6   loan            41188 non-null  object \n",
            " 7   contact         41188 non-null  object \n",
            " 8   month           41188 non-null  object \n",
            " 9   day_of_week     41188 non-null  object \n",
            " 10  duration        41188 non-null  int64  \n",
            " 11  campaign        41188 non-null  int64  \n",
            " 12  pdays           41188 non-null  int64  \n",
            " 13  previous        41188 non-null  int64  \n",
            " 14  poutcome        41188 non-null  object \n",
            " 15  emp.var.rate    41188 non-null  float64\n",
            " 16  cons.price.idx  41188 non-null  float64\n",
            " 17  cons.conf.idx   41188 non-null  float64\n",
            " 18  euribor3m       41188 non-null  float64\n",
            " 19  nr.employed     41188 non-null  float64\n",
            " 20  y               41188 non-null  object \n",
            "dtypes: float64(5), int64(5), object(11)\n",
            "memory usage: 6.6+ MB\n",
            "******************************************************************************************************************************************************\n",
            "age               0\n",
            "job               0\n",
            "marital           0\n",
            "education         0\n",
            "default           0\n",
            "housing           0\n",
            "loan              0\n",
            "contact           0\n",
            "month             0\n",
            "day_of_week       0\n",
            "duration          0\n",
            "campaign          0\n",
            "pdays             0\n",
            "previous          0\n",
            "poutcome          0\n",
            "emp.var.rate      0\n",
            "cons.price.idx    0\n",
            "cons.conf.idx     0\n",
            "euribor3m         0\n",
            "nr.employed       0\n",
            "y                 0\n",
            "dtype: int64\n",
            "******************************************************************************************************************************************************\n"
          ]
        }
      ]
    },
    {
      "cell_type": "markdown",
      "source": [
        "### No null values with the typical NaN representation but many cateogorical values, let's proceed with a deep-dive on them:"
      ],
      "metadata": {
        "id": "KT80R-KZOcFx"
      }
    },
    {
      "cell_type": "code",
      "source": [
        "print('Unique values by column:')\n",
        "print('job         →', df['job'].unique())\n",
        "print('marital     →', df['marital'].unique())\n",
        "print('education   →', df['education'].unique())\n",
        "print('default     →', df['default'].unique())\n",
        "print('housing     →', df['housing'].unique())\n",
        "print('loan        →', df['loan'].unique())\n",
        "print('contact     →', df['contact'].unique())\n",
        "print('month       →', df['month'].unique())\n",
        "print('day_of_week →', df['day_of_week'].unique())\n",
        "print('poutcome    →', df['poutcome'].unique())\n",
        "print('y           →', df['y'].unique())\n"
      ],
      "metadata": {
        "colab": {
          "base_uri": "https://localhost:8080/"
        },
        "id": "UnZbl-PkOZBm",
        "outputId": "bad44ee9-e9c3-48c9-eecb-6633ccaf2b6d"
      },
      "execution_count": 4,
      "outputs": [
        {
          "output_type": "stream",
          "name": "stdout",
          "text": [
            "Unique values by column:\n",
            "job         → ['housemaid' 'services' 'admin.' 'blue-collar' 'technician' 'retired'\n",
            " 'management' 'unemployed' 'self-employed' 'unknown' 'entrepreneur'\n",
            " 'student']\n",
            "marital     → ['married' 'single' 'divorced' 'unknown']\n",
            "education   → ['basic.4y' 'high.school' 'basic.6y' 'basic.9y' 'professional.course'\n",
            " 'unknown' 'university.degree' 'illiterate']\n",
            "default     → ['no' 'unknown' 'yes']\n",
            "housing     → ['no' 'yes' 'unknown']\n",
            "loan        → ['no' 'yes' 'unknown']\n",
            "contact     → ['telephone' 'cellular']\n",
            "month       → ['may' 'jun' 'jul' 'aug' 'oct' 'nov' 'dec' 'mar' 'apr' 'sep']\n",
            "day_of_week → ['mon' 'tue' 'wed' 'thu' 'fri']\n",
            "poutcome    → ['nonexistent' 'failure' 'success']\n",
            "y           → ['no' 'yes']\n"
          ]
        }
      ]
    },
    {
      "cell_type": "markdown",
      "source": [
        "### From this code we have seen that our target variable y is categorical (i.e. 'yes' or 'no'). Let's adress this issue immediately and convert into a numerical signal:"
      ],
      "metadata": {
        "id": "xrXbS4XSNKKa"
      }
    },
    {
      "cell_type": "code",
      "source": [
        "df['y'] = (df['y'] == 'yes').astype('int8')  # yes→1, no→0"
      ],
      "metadata": {
        "id": "5_kk2Bs7NIwm"
      },
      "execution_count": 5,
      "outputs": []
    },
    {
      "cell_type": "markdown",
      "source": [
        "### Now, let's dive deeper into an EDA for our dataset:"
      ],
      "metadata": {
        "id": "cMDSju9QoBbo"
      }
    },
    {
      "cell_type": "code",
      "source": [
        "def ensure_cols(df, cols):\n",
        "    return [c for c in cols if c in df.columns]\n",
        "\n",
        "b_dark, b_mid, b_light = \"#2C7FB8\", \"#6BAED6\", \"#BBD7EA\""
      ],
      "metadata": {
        "id": "bfdAU7QqpopQ"
      },
      "execution_count": 6,
      "outputs": []
    },
    {
      "cell_type": "code",
      "source": [
        "display(df)"
      ],
      "metadata": {
        "colab": {
          "base_uri": "https://localhost:8080/",
          "height": 423
        },
        "id": "ZP2-eOoWrmjQ",
        "outputId": "3400cf27-f5f3-4cfe-9b68-f983d38e6a14"
      },
      "execution_count": 7,
      "outputs": [
        {
          "output_type": "display_data",
          "data": {
            "text/plain": [
              "       age          job  marital            education  default housing loan  \\\n",
              "0       56    housemaid  married             basic.4y       no      no   no   \n",
              "1       57     services  married          high.school  unknown      no   no   \n",
              "2       37     services  married          high.school       no     yes   no   \n",
              "3       40       admin.  married             basic.6y       no      no   no   \n",
              "4       56     services  married          high.school       no      no  yes   \n",
              "...    ...          ...      ...                  ...      ...     ...  ...   \n",
              "41183   73      retired  married  professional.course       no     yes   no   \n",
              "41184   46  blue-collar  married  professional.course       no      no   no   \n",
              "41185   56      retired  married    university.degree       no     yes   no   \n",
              "41186   44   technician  married  professional.course       no      no   no   \n",
              "41187   74      retired  married  professional.course       no     yes   no   \n",
              "\n",
              "         contact month day_of_week  duration  campaign  pdays  previous  \\\n",
              "0      telephone   may         mon       261         1    999         0   \n",
              "1      telephone   may         mon       149         1    999         0   \n",
              "2      telephone   may         mon       226         1    999         0   \n",
              "3      telephone   may         mon       151         1    999         0   \n",
              "4      telephone   may         mon       307         1    999         0   \n",
              "...          ...   ...         ...       ...       ...    ...       ...   \n",
              "41183   cellular   nov         fri       334         1    999         0   \n",
              "41184   cellular   nov         fri       383         1    999         0   \n",
              "41185   cellular   nov         fri       189         2    999         0   \n",
              "41186   cellular   nov         fri       442         1    999         0   \n",
              "41187   cellular   nov         fri       239         3    999         1   \n",
              "\n",
              "          poutcome  emp.var.rate  cons.price.idx  cons.conf.idx  euribor3m  \\\n",
              "0      nonexistent           1.1          93.994          -36.4      4.857   \n",
              "1      nonexistent           1.1          93.994          -36.4      4.857   \n",
              "2      nonexistent           1.1          93.994          -36.4      4.857   \n",
              "3      nonexistent           1.1          93.994          -36.4      4.857   \n",
              "4      nonexistent           1.1          93.994          -36.4      4.857   \n",
              "...            ...           ...             ...            ...        ...   \n",
              "41183  nonexistent          -1.1          94.767          -50.8      1.028   \n",
              "41184  nonexistent          -1.1          94.767          -50.8      1.028   \n",
              "41185  nonexistent          -1.1          94.767          -50.8      1.028   \n",
              "41186  nonexistent          -1.1          94.767          -50.8      1.028   \n",
              "41187      failure          -1.1          94.767          -50.8      1.028   \n",
              "\n",
              "       nr.employed  y  \n",
              "0           5191.0  0  \n",
              "1           5191.0  0  \n",
              "2           5191.0  0  \n",
              "3           5191.0  0  \n",
              "4           5191.0  0  \n",
              "...            ... ..  \n",
              "41183       4963.6  1  \n",
              "41184       4963.6  0  \n",
              "41185       4963.6  0  \n",
              "41186       4963.6  1  \n",
              "41187       4963.6  0  \n",
              "\n",
              "[41188 rows x 21 columns]"
            ],
            "text/html": [
              "\n",
              "  <div id=\"df-34d7090f-5b75-482e-ace6-65347691a954\" class=\"colab-df-container\">\n",
              "    <div>\n",
              "<style scoped>\n",
              "    .dataframe tbody tr th:only-of-type {\n",
              "        vertical-align: middle;\n",
              "    }\n",
              "\n",
              "    .dataframe tbody tr th {\n",
              "        vertical-align: top;\n",
              "    }\n",
              "\n",
              "    .dataframe thead th {\n",
              "        text-align: right;\n",
              "    }\n",
              "</style>\n",
              "<table border=\"1\" class=\"dataframe\">\n",
              "  <thead>\n",
              "    <tr style=\"text-align: right;\">\n",
              "      <th></th>\n",
              "      <th>age</th>\n",
              "      <th>job</th>\n",
              "      <th>marital</th>\n",
              "      <th>education</th>\n",
              "      <th>default</th>\n",
              "      <th>housing</th>\n",
              "      <th>loan</th>\n",
              "      <th>contact</th>\n",
              "      <th>month</th>\n",
              "      <th>day_of_week</th>\n",
              "      <th>duration</th>\n",
              "      <th>campaign</th>\n",
              "      <th>pdays</th>\n",
              "      <th>previous</th>\n",
              "      <th>poutcome</th>\n",
              "      <th>emp.var.rate</th>\n",
              "      <th>cons.price.idx</th>\n",
              "      <th>cons.conf.idx</th>\n",
              "      <th>euribor3m</th>\n",
              "      <th>nr.employed</th>\n",
              "      <th>y</th>\n",
              "    </tr>\n",
              "  </thead>\n",
              "  <tbody>\n",
              "    <tr>\n",
              "      <th>0</th>\n",
              "      <td>56</td>\n",
              "      <td>housemaid</td>\n",
              "      <td>married</td>\n",
              "      <td>basic.4y</td>\n",
              "      <td>no</td>\n",
              "      <td>no</td>\n",
              "      <td>no</td>\n",
              "      <td>telephone</td>\n",
              "      <td>may</td>\n",
              "      <td>mon</td>\n",
              "      <td>261</td>\n",
              "      <td>1</td>\n",
              "      <td>999</td>\n",
              "      <td>0</td>\n",
              "      <td>nonexistent</td>\n",
              "      <td>1.1</td>\n",
              "      <td>93.994</td>\n",
              "      <td>-36.4</td>\n",
              "      <td>4.857</td>\n",
              "      <td>5191.0</td>\n",
              "      <td>0</td>\n",
              "    </tr>\n",
              "    <tr>\n",
              "      <th>1</th>\n",
              "      <td>57</td>\n",
              "      <td>services</td>\n",
              "      <td>married</td>\n",
              "      <td>high.school</td>\n",
              "      <td>unknown</td>\n",
              "      <td>no</td>\n",
              "      <td>no</td>\n",
              "      <td>telephone</td>\n",
              "      <td>may</td>\n",
              "      <td>mon</td>\n",
              "      <td>149</td>\n",
              "      <td>1</td>\n",
              "      <td>999</td>\n",
              "      <td>0</td>\n",
              "      <td>nonexistent</td>\n",
              "      <td>1.1</td>\n",
              "      <td>93.994</td>\n",
              "      <td>-36.4</td>\n",
              "      <td>4.857</td>\n",
              "      <td>5191.0</td>\n",
              "      <td>0</td>\n",
              "    </tr>\n",
              "    <tr>\n",
              "      <th>2</th>\n",
              "      <td>37</td>\n",
              "      <td>services</td>\n",
              "      <td>married</td>\n",
              "      <td>high.school</td>\n",
              "      <td>no</td>\n",
              "      <td>yes</td>\n",
              "      <td>no</td>\n",
              "      <td>telephone</td>\n",
              "      <td>may</td>\n",
              "      <td>mon</td>\n",
              "      <td>226</td>\n",
              "      <td>1</td>\n",
              "      <td>999</td>\n",
              "      <td>0</td>\n",
              "      <td>nonexistent</td>\n",
              "      <td>1.1</td>\n",
              "      <td>93.994</td>\n",
              "      <td>-36.4</td>\n",
              "      <td>4.857</td>\n",
              "      <td>5191.0</td>\n",
              "      <td>0</td>\n",
              "    </tr>\n",
              "    <tr>\n",
              "      <th>3</th>\n",
              "      <td>40</td>\n",
              "      <td>admin.</td>\n",
              "      <td>married</td>\n",
              "      <td>basic.6y</td>\n",
              "      <td>no</td>\n",
              "      <td>no</td>\n",
              "      <td>no</td>\n",
              "      <td>telephone</td>\n",
              "      <td>may</td>\n",
              "      <td>mon</td>\n",
              "      <td>151</td>\n",
              "      <td>1</td>\n",
              "      <td>999</td>\n",
              "      <td>0</td>\n",
              "      <td>nonexistent</td>\n",
              "      <td>1.1</td>\n",
              "      <td>93.994</td>\n",
              "      <td>-36.4</td>\n",
              "      <td>4.857</td>\n",
              "      <td>5191.0</td>\n",
              "      <td>0</td>\n",
              "    </tr>\n",
              "    <tr>\n",
              "      <th>4</th>\n",
              "      <td>56</td>\n",
              "      <td>services</td>\n",
              "      <td>married</td>\n",
              "      <td>high.school</td>\n",
              "      <td>no</td>\n",
              "      <td>no</td>\n",
              "      <td>yes</td>\n",
              "      <td>telephone</td>\n",
              "      <td>may</td>\n",
              "      <td>mon</td>\n",
              "      <td>307</td>\n",
              "      <td>1</td>\n",
              "      <td>999</td>\n",
              "      <td>0</td>\n",
              "      <td>nonexistent</td>\n",
              "      <td>1.1</td>\n",
              "      <td>93.994</td>\n",
              "      <td>-36.4</td>\n",
              "      <td>4.857</td>\n",
              "      <td>5191.0</td>\n",
              "      <td>0</td>\n",
              "    </tr>\n",
              "    <tr>\n",
              "      <th>...</th>\n",
              "      <td>...</td>\n",
              "      <td>...</td>\n",
              "      <td>...</td>\n",
              "      <td>...</td>\n",
              "      <td>...</td>\n",
              "      <td>...</td>\n",
              "      <td>...</td>\n",
              "      <td>...</td>\n",
              "      <td>...</td>\n",
              "      <td>...</td>\n",
              "      <td>...</td>\n",
              "      <td>...</td>\n",
              "      <td>...</td>\n",
              "      <td>...</td>\n",
              "      <td>...</td>\n",
              "      <td>...</td>\n",
              "      <td>...</td>\n",
              "      <td>...</td>\n",
              "      <td>...</td>\n",
              "      <td>...</td>\n",
              "      <td>...</td>\n",
              "    </tr>\n",
              "    <tr>\n",
              "      <th>41183</th>\n",
              "      <td>73</td>\n",
              "      <td>retired</td>\n",
              "      <td>married</td>\n",
              "      <td>professional.course</td>\n",
              "      <td>no</td>\n",
              "      <td>yes</td>\n",
              "      <td>no</td>\n",
              "      <td>cellular</td>\n",
              "      <td>nov</td>\n",
              "      <td>fri</td>\n",
              "      <td>334</td>\n",
              "      <td>1</td>\n",
              "      <td>999</td>\n",
              "      <td>0</td>\n",
              "      <td>nonexistent</td>\n",
              "      <td>-1.1</td>\n",
              "      <td>94.767</td>\n",
              "      <td>-50.8</td>\n",
              "      <td>1.028</td>\n",
              "      <td>4963.6</td>\n",
              "      <td>1</td>\n",
              "    </tr>\n",
              "    <tr>\n",
              "      <th>41184</th>\n",
              "      <td>46</td>\n",
              "      <td>blue-collar</td>\n",
              "      <td>married</td>\n",
              "      <td>professional.course</td>\n",
              "      <td>no</td>\n",
              "      <td>no</td>\n",
              "      <td>no</td>\n",
              "      <td>cellular</td>\n",
              "      <td>nov</td>\n",
              "      <td>fri</td>\n",
              "      <td>383</td>\n",
              "      <td>1</td>\n",
              "      <td>999</td>\n",
              "      <td>0</td>\n",
              "      <td>nonexistent</td>\n",
              "      <td>-1.1</td>\n",
              "      <td>94.767</td>\n",
              "      <td>-50.8</td>\n",
              "      <td>1.028</td>\n",
              "      <td>4963.6</td>\n",
              "      <td>0</td>\n",
              "    </tr>\n",
              "    <tr>\n",
              "      <th>41185</th>\n",
              "      <td>56</td>\n",
              "      <td>retired</td>\n",
              "      <td>married</td>\n",
              "      <td>university.degree</td>\n",
              "      <td>no</td>\n",
              "      <td>yes</td>\n",
              "      <td>no</td>\n",
              "      <td>cellular</td>\n",
              "      <td>nov</td>\n",
              "      <td>fri</td>\n",
              "      <td>189</td>\n",
              "      <td>2</td>\n",
              "      <td>999</td>\n",
              "      <td>0</td>\n",
              "      <td>nonexistent</td>\n",
              "      <td>-1.1</td>\n",
              "      <td>94.767</td>\n",
              "      <td>-50.8</td>\n",
              "      <td>1.028</td>\n",
              "      <td>4963.6</td>\n",
              "      <td>0</td>\n",
              "    </tr>\n",
              "    <tr>\n",
              "      <th>41186</th>\n",
              "      <td>44</td>\n",
              "      <td>technician</td>\n",
              "      <td>married</td>\n",
              "      <td>professional.course</td>\n",
              "      <td>no</td>\n",
              "      <td>no</td>\n",
              "      <td>no</td>\n",
              "      <td>cellular</td>\n",
              "      <td>nov</td>\n",
              "      <td>fri</td>\n",
              "      <td>442</td>\n",
              "      <td>1</td>\n",
              "      <td>999</td>\n",
              "      <td>0</td>\n",
              "      <td>nonexistent</td>\n",
              "      <td>-1.1</td>\n",
              "      <td>94.767</td>\n",
              "      <td>-50.8</td>\n",
              "      <td>1.028</td>\n",
              "      <td>4963.6</td>\n",
              "      <td>1</td>\n",
              "    </tr>\n",
              "    <tr>\n",
              "      <th>41187</th>\n",
              "      <td>74</td>\n",
              "      <td>retired</td>\n",
              "      <td>married</td>\n",
              "      <td>professional.course</td>\n",
              "      <td>no</td>\n",
              "      <td>yes</td>\n",
              "      <td>no</td>\n",
              "      <td>cellular</td>\n",
              "      <td>nov</td>\n",
              "      <td>fri</td>\n",
              "      <td>239</td>\n",
              "      <td>3</td>\n",
              "      <td>999</td>\n",
              "      <td>1</td>\n",
              "      <td>failure</td>\n",
              "      <td>-1.1</td>\n",
              "      <td>94.767</td>\n",
              "      <td>-50.8</td>\n",
              "      <td>1.028</td>\n",
              "      <td>4963.6</td>\n",
              "      <td>0</td>\n",
              "    </tr>\n",
              "  </tbody>\n",
              "</table>\n",
              "<p>41188 rows × 21 columns</p>\n",
              "</div>\n",
              "    <div class=\"colab-df-buttons\">\n",
              "\n",
              "  <div class=\"colab-df-container\">\n",
              "    <button class=\"colab-df-convert\" onclick=\"convertToInteractive('df-34d7090f-5b75-482e-ace6-65347691a954')\"\n",
              "            title=\"Convert this dataframe to an interactive table.\"\n",
              "            style=\"display:none;\">\n",
              "\n",
              "  <svg xmlns=\"http://www.w3.org/2000/svg\" height=\"24px\" viewBox=\"0 -960 960 960\">\n",
              "    <path d=\"M120-120v-720h720v720H120Zm60-500h600v-160H180v160Zm220 220h160v-160H400v160Zm0 220h160v-160H400v160ZM180-400h160v-160H180v160Zm440 0h160v-160H620v160ZM180-180h160v-160H180v160Zm440 0h160v-160H620v160Z\"/>\n",
              "  </svg>\n",
              "    </button>\n",
              "\n",
              "  <style>\n",
              "    .colab-df-container {\n",
              "      display:flex;\n",
              "      gap: 12px;\n",
              "    }\n",
              "\n",
              "    .colab-df-convert {\n",
              "      background-color: #E8F0FE;\n",
              "      border: none;\n",
              "      border-radius: 50%;\n",
              "      cursor: pointer;\n",
              "      display: none;\n",
              "      fill: #1967D2;\n",
              "      height: 32px;\n",
              "      padding: 0 0 0 0;\n",
              "      width: 32px;\n",
              "    }\n",
              "\n",
              "    .colab-df-convert:hover {\n",
              "      background-color: #E2EBFA;\n",
              "      box-shadow: 0px 1px 2px rgba(60, 64, 67, 0.3), 0px 1px 3px 1px rgba(60, 64, 67, 0.15);\n",
              "      fill: #174EA6;\n",
              "    }\n",
              "\n",
              "    .colab-df-buttons div {\n",
              "      margin-bottom: 4px;\n",
              "    }\n",
              "\n",
              "    [theme=dark] .colab-df-convert {\n",
              "      background-color: #3B4455;\n",
              "      fill: #D2E3FC;\n",
              "    }\n",
              "\n",
              "    [theme=dark] .colab-df-convert:hover {\n",
              "      background-color: #434B5C;\n",
              "      box-shadow: 0px 1px 3px 1px rgba(0, 0, 0, 0.15);\n",
              "      filter: drop-shadow(0px 1px 2px rgba(0, 0, 0, 0.3));\n",
              "      fill: #FFFFFF;\n",
              "    }\n",
              "  </style>\n",
              "\n",
              "    <script>\n",
              "      const buttonEl =\n",
              "        document.querySelector('#df-34d7090f-5b75-482e-ace6-65347691a954 button.colab-df-convert');\n",
              "      buttonEl.style.display =\n",
              "        google.colab.kernel.accessAllowed ? 'block' : 'none';\n",
              "\n",
              "      async function convertToInteractive(key) {\n",
              "        const element = document.querySelector('#df-34d7090f-5b75-482e-ace6-65347691a954');\n",
              "        const dataTable =\n",
              "          await google.colab.kernel.invokeFunction('convertToInteractive',\n",
              "                                                    [key], {});\n",
              "        if (!dataTable) return;\n",
              "\n",
              "        const docLinkHtml = 'Like what you see? Visit the ' +\n",
              "          '<a target=\"_blank\" href=https://colab.research.google.com/notebooks/data_table.ipynb>data table notebook</a>'\n",
              "          + ' to learn more about interactive tables.';\n",
              "        element.innerHTML = '';\n",
              "        dataTable['output_type'] = 'display_data';\n",
              "        await google.colab.output.renderOutput(dataTable, element);\n",
              "        const docLink = document.createElement('div');\n",
              "        docLink.innerHTML = docLinkHtml;\n",
              "        element.appendChild(docLink);\n",
              "      }\n",
              "    </script>\n",
              "  </div>\n",
              "\n",
              "\n",
              "    <div id=\"df-daf802b0-feb8-41b9-bac7-59e5b84f02c2\">\n",
              "      <button class=\"colab-df-quickchart\" onclick=\"quickchart('df-daf802b0-feb8-41b9-bac7-59e5b84f02c2')\"\n",
              "                title=\"Suggest charts\"\n",
              "                style=\"display:none;\">\n",
              "\n",
              "<svg xmlns=\"http://www.w3.org/2000/svg\" height=\"24px\"viewBox=\"0 0 24 24\"\n",
              "     width=\"24px\">\n",
              "    <g>\n",
              "        <path d=\"M19 3H5c-1.1 0-2 .9-2 2v14c0 1.1.9 2 2 2h14c1.1 0 2-.9 2-2V5c0-1.1-.9-2-2-2zM9 17H7v-7h2v7zm4 0h-2V7h2v10zm4 0h-2v-4h2v4z\"/>\n",
              "    </g>\n",
              "</svg>\n",
              "      </button>\n",
              "\n",
              "<style>\n",
              "  .colab-df-quickchart {\n",
              "      --bg-color: #E8F0FE;\n",
              "      --fill-color: #1967D2;\n",
              "      --hover-bg-color: #E2EBFA;\n",
              "      --hover-fill-color: #174EA6;\n",
              "      --disabled-fill-color: #AAA;\n",
              "      --disabled-bg-color: #DDD;\n",
              "  }\n",
              "\n",
              "  [theme=dark] .colab-df-quickchart {\n",
              "      --bg-color: #3B4455;\n",
              "      --fill-color: #D2E3FC;\n",
              "      --hover-bg-color: #434B5C;\n",
              "      --hover-fill-color: #FFFFFF;\n",
              "      --disabled-bg-color: #3B4455;\n",
              "      --disabled-fill-color: #666;\n",
              "  }\n",
              "\n",
              "  .colab-df-quickchart {\n",
              "    background-color: var(--bg-color);\n",
              "    border: none;\n",
              "    border-radius: 50%;\n",
              "    cursor: pointer;\n",
              "    display: none;\n",
              "    fill: var(--fill-color);\n",
              "    height: 32px;\n",
              "    padding: 0;\n",
              "    width: 32px;\n",
              "  }\n",
              "\n",
              "  .colab-df-quickchart:hover {\n",
              "    background-color: var(--hover-bg-color);\n",
              "    box-shadow: 0 1px 2px rgba(60, 64, 67, 0.3), 0 1px 3px 1px rgba(60, 64, 67, 0.15);\n",
              "    fill: var(--button-hover-fill-color);\n",
              "  }\n",
              "\n",
              "  .colab-df-quickchart-complete:disabled,\n",
              "  .colab-df-quickchart-complete:disabled:hover {\n",
              "    background-color: var(--disabled-bg-color);\n",
              "    fill: var(--disabled-fill-color);\n",
              "    box-shadow: none;\n",
              "  }\n",
              "\n",
              "  .colab-df-spinner {\n",
              "    border: 2px solid var(--fill-color);\n",
              "    border-color: transparent;\n",
              "    border-bottom-color: var(--fill-color);\n",
              "    animation:\n",
              "      spin 1s steps(1) infinite;\n",
              "  }\n",
              "\n",
              "  @keyframes spin {\n",
              "    0% {\n",
              "      border-color: transparent;\n",
              "      border-bottom-color: var(--fill-color);\n",
              "      border-left-color: var(--fill-color);\n",
              "    }\n",
              "    20% {\n",
              "      border-color: transparent;\n",
              "      border-left-color: var(--fill-color);\n",
              "      border-top-color: var(--fill-color);\n",
              "    }\n",
              "    30% {\n",
              "      border-color: transparent;\n",
              "      border-left-color: var(--fill-color);\n",
              "      border-top-color: var(--fill-color);\n",
              "      border-right-color: var(--fill-color);\n",
              "    }\n",
              "    40% {\n",
              "      border-color: transparent;\n",
              "      border-right-color: var(--fill-color);\n",
              "      border-top-color: var(--fill-color);\n",
              "    }\n",
              "    60% {\n",
              "      border-color: transparent;\n",
              "      border-right-color: var(--fill-color);\n",
              "    }\n",
              "    80% {\n",
              "      border-color: transparent;\n",
              "      border-right-color: var(--fill-color);\n",
              "      border-bottom-color: var(--fill-color);\n",
              "    }\n",
              "    90% {\n",
              "      border-color: transparent;\n",
              "      border-bottom-color: var(--fill-color);\n",
              "    }\n",
              "  }\n",
              "</style>\n",
              "\n",
              "      <script>\n",
              "        async function quickchart(key) {\n",
              "          const quickchartButtonEl =\n",
              "            document.querySelector('#' + key + ' button');\n",
              "          quickchartButtonEl.disabled = true;  // To prevent multiple clicks.\n",
              "          quickchartButtonEl.classList.add('colab-df-spinner');\n",
              "          try {\n",
              "            const charts = await google.colab.kernel.invokeFunction(\n",
              "                'suggestCharts', [key], {});\n",
              "          } catch (error) {\n",
              "            console.error('Error during call to suggestCharts:', error);\n",
              "          }\n",
              "          quickchartButtonEl.classList.remove('colab-df-spinner');\n",
              "          quickchartButtonEl.classList.add('colab-df-quickchart-complete');\n",
              "        }\n",
              "        (() => {\n",
              "          let quickchartButtonEl =\n",
              "            document.querySelector('#df-daf802b0-feb8-41b9-bac7-59e5b84f02c2 button');\n",
              "          quickchartButtonEl.style.display =\n",
              "            google.colab.kernel.accessAllowed ? 'block' : 'none';\n",
              "        })();\n",
              "      </script>\n",
              "    </div>\n",
              "\n",
              "  <div id=\"id_5d8374c5-c337-4ec3-b6de-1b9f9398490f\">\n",
              "    <style>\n",
              "      .colab-df-generate {\n",
              "        background-color: #E8F0FE;\n",
              "        border: none;\n",
              "        border-radius: 50%;\n",
              "        cursor: pointer;\n",
              "        display: none;\n",
              "        fill: #1967D2;\n",
              "        height: 32px;\n",
              "        padding: 0 0 0 0;\n",
              "        width: 32px;\n",
              "      }\n",
              "\n",
              "      .colab-df-generate:hover {\n",
              "        background-color: #E2EBFA;\n",
              "        box-shadow: 0px 1px 2px rgba(60, 64, 67, 0.3), 0px 1px 3px 1px rgba(60, 64, 67, 0.15);\n",
              "        fill: #174EA6;\n",
              "      }\n",
              "\n",
              "      [theme=dark] .colab-df-generate {\n",
              "        background-color: #3B4455;\n",
              "        fill: #D2E3FC;\n",
              "      }\n",
              "\n",
              "      [theme=dark] .colab-df-generate:hover {\n",
              "        background-color: #434B5C;\n",
              "        box-shadow: 0px 1px 3px 1px rgba(0, 0, 0, 0.15);\n",
              "        filter: drop-shadow(0px 1px 2px rgba(0, 0, 0, 0.3));\n",
              "        fill: #FFFFFF;\n",
              "      }\n",
              "    </style>\n",
              "    <button class=\"colab-df-generate\" onclick=\"generateWithVariable('df')\"\n",
              "            title=\"Generate code using this dataframe.\"\n",
              "            style=\"display:none;\">\n",
              "\n",
              "  <svg xmlns=\"http://www.w3.org/2000/svg\" height=\"24px\"viewBox=\"0 0 24 24\"\n",
              "       width=\"24px\">\n",
              "    <path d=\"M7,19H8.4L18.45,9,17,7.55,7,17.6ZM5,21V16.75L18.45,3.32a2,2,0,0,1,2.83,0l1.4,1.43a1.91,1.91,0,0,1,.58,1.4,1.91,1.91,0,0,1-.58,1.4L9.25,21ZM18.45,9,17,7.55Zm-12,3A5.31,5.31,0,0,0,4.9,8.1,5.31,5.31,0,0,0,1,6.5,5.31,5.31,0,0,0,4.9,4.9,5.31,5.31,0,0,0,6.5,1,5.31,5.31,0,0,0,8.1,4.9,5.31,5.31,0,0,0,12,6.5,5.46,5.46,0,0,0,6.5,12Z\"/>\n",
              "  </svg>\n",
              "    </button>\n",
              "    <script>\n",
              "      (() => {\n",
              "      const buttonEl =\n",
              "        document.querySelector('#id_5d8374c5-c337-4ec3-b6de-1b9f9398490f button.colab-df-generate');\n",
              "      buttonEl.style.display =\n",
              "        google.colab.kernel.accessAllowed ? 'block' : 'none';\n",
              "\n",
              "      buttonEl.onclick = () => {\n",
              "        google.colab.notebook.generateWithVariable('df');\n",
              "      }\n",
              "      })();\n",
              "    </script>\n",
              "  </div>\n",
              "\n",
              "    </div>\n",
              "  </div>\n"
            ],
            "application/vnd.google.colaboratory.intrinsic+json": {
              "type": "dataframe",
              "variable_name": "df"
            }
          },
          "metadata": {}
        }
      ]
    },
    {
      "cell_type": "code",
      "source": [
        "# =========================\n",
        "# 1) Target Analysis\n",
        "# =========================\n",
        "fig, ax = plt.subplots(figsize=(4,3))\n",
        "(df['y'].value_counts(normalize=True)\n",
        "   .reindex([0, 1])\n",
        "   .plot(kind='bar', color=[b_light, b_dark], rot=0, ax=ax))\n",
        "ax.set_ylabel('Proportion'); ax.set_title('Has the client subscribed?  (y: 0=no, 1=yes)')\n",
        "plt.tight_layout(); plt.show()\n"
      ],
      "metadata": {
        "colab": {
          "base_uri": "https://localhost:8080/",
          "height": 307
        },
        "id": "MwnrQpNPpiD7",
        "outputId": "b4005c77-3f75-4d15-98df-adb0bdff5abc"
      },
      "execution_count": 8,
      "outputs": [
        {
          "output_type": "display_data",
          "data": {
            "text/plain": [
              "<Figure size 400x300 with 1 Axes>"
            ],
            "image/png": "[encoded data removed]"
          },
          "metadata": {}
        }
      ]
    },
    {
      "cell_type": "code",
      "source": [
        "# =========================\n",
        "# 2) Numeric histograms\n",
        "# =========================\n",
        "num_cols = ensure_cols(df, [\n",
        "    'age','duration','campaign','pdays','previous',\n",
        "    'emp.var.rate','cons.price.idx','cons.conf.idx','euribor3m','nr.employed'\n",
        "])\n",
        "for col in num_cols:\n",
        "    fig, ax = plt.subplots(figsize=(4,3))\n",
        "    df[col].plot(kind='hist', bins=30, color=b_mid, alpha=0.95, ax=ax)\n",
        "    ax.set_title(col); ax.set_ylabel('Count'); ax.set_xlabel(col)\n",
        "    plt.tight_layout(); plt.show()\n",
        "\n",
        "q1 = df[num_cols].quantile(0.25); q3 = df[num_cols].quantile(0.75)\n",
        "iqr = q3 - q1; lo = q1 - 1.5*iqr; hi = q3 + 1.5*iqr\n",
        "# =========================\n",
        "# 2.A.) Creating a summary dataframe and plotting all the numerical variables also in a consolidated\n",
        "#       histogram view and in a boxplot.\n",
        "# =========================\n",
        "\n",
        "summary = pd.DataFrame({\n",
        "    'skew': df[num_cols].skew(),\n",
        "    'outlier_%': ((df[num_cols].lt(lo) | df[num_cols].gt(hi)).mean()*100)\n",
        "}).round(2).sort_values('outlier_%', ascending=False)\n",
        "\n",
        "print(summary.to_string())\n",
        "\n",
        "df[num_cols].hist(bins=30, figsize=(12,6))\n",
        "plt.tight_layout(); plt.show()\n",
        "\n",
        "\n",
        "df[num_cols].boxplot(vert=False, figsize=(12,5), grid=False)\n",
        "plt.title('Numeric features – boxplots'); plt.tight_layout(); plt.show()\n"
      ],
      "metadata": {
        "colab": {
          "base_uri": "https://localhost:8080/",
          "height": 1000
        },
        "id": "ZFhpPi2DqHth",
        "outputId": "c901be00-5b83-435a-c86d-dec83dbbe484"
      },
      "execution_count": null,
      "outputs": [
        {
          "output_type": "display_data",
          "data": {
            "text/plain": [
              "<Figure size 400x300 with 1 Axes>"
            ],
            "image/png": "[encoded data removed]"
          },
          "metadata": {}
        },
        {
          "output_type": "display_data",
          "data": {
            "text/plain": [
              "<Figure size 400x300 with 1 Axes>"
            ],
            "image/png": "[encoded data removed]"
          },
          "metadata": {}
        },
        {
          "output_type": "display_data",
          "data": {
            "text/plain": [
              "<Figure size 400x300 with 1 Axes>"
            ],
            "image/png": "[encoded data removed]"
          },
          "metadata": {}
        },
        {
          "output_type": "display_data",
          "data": {
            "text/plain": [
              "<Figure size 400x300 with 1 Axes>"
            ],
            "image/png": "[encoded data removed]"
          },
          "metadata": {}
        },
        {
          "output_type": "display_data",
          "data": {
            "text/plain": [
              "<Figure size 400x300 with 1 Axes>"
            ],
            "image/png": "[encoded data removed]"
          },
          "metadata": {}
        },
        {
          "output_type": "display_data",
          "data": {
            "text/plain": [
              "<Figure size 400x300 with 1 Axes>"
            ],
            "image/png": "[encoded data removed]"
          },
          "metadata": {}
        }
      ]
    },
    {
      "cell_type": "markdown",
      "source": [
        "### Ordering our categorical variable that have an intrisic order:"
      ],
      "metadata": {
        "id": "XccnKn3j__Ai"
      }
    },
    {
      "cell_type": "code",
      "source": [
        "orderings = {\n",
        "    'month':       ['mar','apr','may','jun','jul','aug','sep','oct','nov','dec'],\n",
        "    'education':   ['illiterate','basic.4y','basic.6y','basic.9y',\n",
        "                    'high.school','professional.course','university.degree','unknown'],\n",
        "    'day_of_week': ['mon','tue','wed','thu','fri'],\n",
        "}\n",
        "\n",
        "for c, cats in orderings.items():\n",
        "    if c in df.columns:\n",
        "        df[c] = pd.Categorical(df[c], categories=cats, ordered=True)\n"
      ],
      "metadata": {
        "id": "4GSX-koJAD00"
      },
      "execution_count": null,
      "outputs": []
    },
    {
      "cell_type": "code",
      "source": [
        "# =========================\n",
        "# 3) Categorical: normalized bars\n",
        "# =========================\n",
        "cat_cols = ensure_cols(df, [\n",
        "    'job','marital','education','default','housing','loan',\n",
        "    'contact','month','day_of_week','poutcome'\n",
        "])\n",
        "for col in cat_cols:\n",
        "    fig, ax = plt.subplots(figsize=(5,3.2))\n",
        "    (df[col].value_counts(normalize=True)\n",
        "        .sort_index()\n",
        "        .plot(kind='bar', color=b_mid, ax=ax))\n",
        "    ax.set_title(f'{col} (proportion)'); ax.set_ylabel('Proportion'); ax.set_ylim(0,1)\n",
        "    ax.tick_params(axis='x', rotation=20)\n",
        "    plt.tight_layout(); plt.show()\n"
      ],
      "metadata": {
        "id": "5FnFpinWqZAC"
      },
      "execution_count": null,
      "outputs": []
    },
    {
      "cell_type": "code",
      "source": [
        "b_dark, b_mid, b_light = \"#2C7FB8\", \"#6BAED6\", \"#BBD7EA\"\n",
        "\n",
        "cats = df['month'].cat.categories\n",
        "s = df['month'].value_counts().reindex(cats, fill_value=0)\n",
        "\n",
        "ax = s.plot(kind='bar', color=b_mid, rot=0, figsize=(6,3), title='Entries per month')\n",
        "ax.axhline(s.mean(), color=b_dark, linestyle='--', linewidth=1)\n",
        "ax.set_ylabel('Count'); plt.tight_layout(); plt.show()\n",
        "print()\n",
        "print('*'*150)\n",
        "print()\n",
        "print(s.astype(int).to_string())"
      ],
      "metadata": {
        "id": "xdcjerijARhz"
      },
      "execution_count": null,
      "outputs": []
    },
    {
      "cell_type": "code",
      "source": [
        "# =========================\n",
        "# 4) Absolute correlation heatmap (numeric only)\n",
        "# =========================\n",
        "num_for_corr = ensure_cols(df, num_cols + ['y'])  # keep only those present\n",
        "corr = df[num_for_corr].corr().abs()\n",
        "fig, ax = plt.subplots(figsize=(6,5))\n",
        "im = ax.imshow(corr, cmap='Blues', vmin=0, vmax=1)\n",
        "ax.set_xticks(range(len(corr.columns))); ax.set_xticklabels(corr.columns, rotation=45, ha='right')\n",
        "ax.set_yticks(range(len(corr.index)));   ax.set_yticklabels(corr.index)\n",
        "for i in range(corr.shape[0]):\n",
        "    for j in range(corr.shape[1]):\n",
        "        ax.text(j, i, f'{corr.values[i,j]:.2f}', ha='center', va='center', color='black', fontsize=8)\n",
        "ax.set_title('Absolute Correlation (numeric)'); fig.colorbar(im, ax=ax)\n",
        "plt.tight_layout(); plt.show()\n"
      ],
      "metadata": {
        "id": "tXef_4wsqdd-"
      },
      "execution_count": null,
      "outputs": []
    },
    {
      "cell_type": "code",
      "source": [
        "# =========================\n",
        "# 5) y-rate by categorical (stacked bars)\n",
        "# =========================\n",
        "cats_for_rate = cat_cols\n",
        "for col in cats_for_rate:\n",
        "    tab = pd.crosstab(df[col], df['y'], normalize='index').reindex(columns=[1,0])\n",
        "    fig, ax = plt.subplots(figsize=(6,3.2))\n",
        "    tab.plot(kind='bar', stacked=True, color=[b_dark, b_light], ax=ax, legend=True)\n",
        "    ax.set_title(f'P(y=1) by {col} (stacked)'); ax.set_ylabel('Proportion'); ax.set_ylim(0,1)\n",
        "    ax.tick_params(axis='x', rotation=25)\n",
        "    ax.legend(['Deposit','No deposit'], loc='upper left', bbox_to_anchor=(1.02, 1.0),\n",
        "              frameon=False, title='Outcome')\n",
        "    plt.tight_layout(); plt.show()"
      ],
      "metadata": {
        "id": "jcZyQnD_rSXm"
      },
      "execution_count": null,
      "outputs": []
    },
    {
      "cell_type": "markdown",
      "source": [
        "### Feature engineering (numerical values):"
      ],
      "metadata": {
        "id": "a2gn1ov8qeWZ"
      }
    },
    {
      "cell_type": "code",
      "source": [
        "# --- cross-features & flags ---\n",
        "df['any_loan'] = ((df['housing'] == 'yes') | (df['loan'] == 'yes')).astype('int8')\n",
        "df['loan_info_missing'] = ((df['housing'] == 'unknown') | (df['loan'] == 'unknown')).astype('int8')\n",
        "\n",
        "df['is_student']    = (df['job'] == 'student').astype('int8')\n",
        "df['is_retired']    = (df['job'] == 'retired').astype('int8')\n",
        "df['is_unemployed'] = (df['job'] == 'unemployed').astype('int8')\n",
        "\n",
        "# --- months: include all listed; create a quarter feature ---\n",
        "month_order = ['mar','apr','may','jun','jul','aug','sep','oct','nov','dec']\n",
        "to_qtr = {\n",
        "    'mar':'Q1', 'apr':'Q2',\n",
        "    'may':'Q2','jun':'Q2',\n",
        "    'jul':'Q3','aug':'Q3','sep':'Q3',\n",
        "    'oct':'Q4','nov':'Q4','dec':'Q4'\n",
        "}\n",
        "df['month_qtr'] = df['month'].map(to_qtr)\n"
      ],
      "metadata": {
        "id": "YsvqY9CtqsF5"
      },
      "execution_count": null,
      "outputs": []
    },
    {
      "cell_type": "code",
      "source": [
        "# =========================\n",
        "# PDAYS engineering (from pdays)\n",
        "# =========================\n",
        "\n",
        "p = df['pdays']\n",
        "\n",
        "df['never_contacted']  = (p == 999).astype('int8')\n",
        "df['days_since_prev_contact_shift_1']     = np.where(p == 999, 0, p + 1).astype('int16')\n",
        "\n",
        "# Creating two features to indicate whether the lead has ever been contacted and\n",
        "# also how many times he/she got contacted during this campaing\n",
        "for c in ['previous','campaign']:\n",
        "    df[f'{c}_greater_than_0'] = (df[c] > 0).astype('int8')\n",
        "\n",
        "# Creating a clip on the 99th quantile upper bound.\n",
        "caps = df[['previous','campaign']].quantile(0.99)\n",
        "df['previous'] = df['previous'].clip(upper=float(caps['previous']))\n",
        "df['campaign_clip'] = df['campaign'].clip(upper=float(caps['campaign']))\n",
        "\n",
        "# Scaling to a log1(P) value to capture better signal over noise.\n",
        "df['previous_log1p'] = np.log1p(df['previous'])\n",
        "df['campaign_log1p'] = np.log1p(df['campaign'])\n",
        "\n",
        "df.drop(columns=['pdays'], inplace=True)"
      ],
      "metadata": {
        "id": "Yf2RJOofqkO1"
      },
      "execution_count": null,
      "outputs": []
    },
    {
      "cell_type": "code",
      "source": [
        "# =========================\n",
        "# Tiny EDA on days_since_prev_contact_shift_1\n",
        "# =========================\n",
        "num_cols = ensure_cols(df, [\n",
        "    'days_since_prev_contact_shift_1'\n",
        "])\n",
        "\n",
        "q1 = df[num_cols].quantile(0.25); q3 = df[num_cols].quantile(0.75)\n",
        "iqr = q3 - q1; lo = q1 - 1.5*iqr; hi = q3 + 1.5*iqr\n",
        "\n",
        "summary = pd.DataFrame({\n",
        "    'skew': df[num_cols].skew(),\n",
        "    'outlier_%': ((df[num_cols].lt(lo) | df[num_cols].gt(hi)).mean()*100)\n",
        "}).round(2).sort_values('outlier_%', ascending=False)\n",
        "\n",
        "print(summary.to_string())\n",
        "\n",
        "df[num_cols].boxplot(vert=False, figsize=(12,5), grid=False)\n",
        "plt.title('Numeric features – boxplots'); plt.tight_layout(); plt.show()\n"
      ],
      "metadata": {
        "id": "ae6nMufkqkO1"
      },
      "execution_count": null,
      "outputs": []
    },
    {
      "cell_type": "markdown",
      "source": [
        "### Categorical features `value_counts()` analysis and feature renaming:"
      ],
      "metadata": {
        "id": "-iPnJViAqHEo"
      }
    },
    {
      "cell_type": "code",
      "source": [
        "# --- 3) % of 'unknown' per feature + blue bar chart wrapped on 2 lines -------\n",
        "cats = ['job','marital','education','default','housing','loan']\n",
        "present = [c for c in cats if c in df.columns]\n",
        "\n",
        "unk_cnt = df[present].eq('unknown').sum()\n",
        "unk_pct = (df[present].eq('unknown').mean()*100)\n",
        "\n",
        "order = unk_pct.sort_values(ascending=False).index.tolist()\n",
        "\n",
        "for c in order:\n",
        "    vc = df[c].value_counts(dropna=False)\n",
        "    tot = int(vc.sum())\n",
        "    parts = [f\"{str(k)}={int(v)} ({v*100/tot:.1f}%)\" for k, v in vc.items()]\n",
        "    print(f\"{c:<12} (n={tot}) → \" + \" | \".join(parts))"
      ],
      "metadata": {
        "id": "U92n2iji_T93"
      },
      "execution_count": null,
      "outputs": []
    },
    {
      "cell_type": "code",
      "source": [
        "ncols = math.ceil(len(order)/2) or 1\n",
        "fig, axes = plt.subplots(2, ncols, figsize=(4*ncols, 6), sharey=True); axes = axes.ravel()\n",
        "for i, c in enumerate(order):\n",
        "    p = unk_pct[c]\n",
        "    axes[i].bar(['unknown','other'], [p, 100-p], color=[plt.cm.Blues(0.85), plt.cm.Blues(0.55)])\n",
        "    axes[i].set_title(f\"{c} ({p:.1f}%)\"); axes[i].set_ylim(0,100); axes[i].grid(axis='y', alpha=0.2)\n",
        "for j in range(i+1, len(axes)): fig.delaxes(axes[j])\n",
        "fig.suptitle('Unknown vs Other (%), sorted by Unknown'); plt.tight_layout(); plt.show()"
      ],
      "metadata": {
        "id": "ajicMIaHCmvO"
      },
      "execution_count": null,
      "outputs": []
    },
    {
      "cell_type": "markdown",
      "source": [
        "### From this code, we can observe that in most of our categorical features we have the presence of the category 'uknown', therefore, we must dive deeper.\n",
        "\n",
        "\n",
        "---\n",
        "\n",
        "\n",
        "### Over the next parts, we will analyse feature by feature. Let's start with Default:\n"
      ],
      "metadata": {
        "id": "X7oGfKkeTn9N"
      }
    },
    {
      "cell_type": "code",
      "source": [
        "df['default'] = df['default'].replace({'yes':'unknown'})\n",
        "df = df.join(pd.get_dummies(df['default'], prefix='default', drop_first=False, dtype='int8')) \\\n",
        "       .drop(columns='default')"
      ],
      "metadata": {
        "id": "xhMiEC_QP9XL"
      },
      "execution_count": null,
      "outputs": []
    },
    {
      "cell_type": "markdown",
      "source": [
        "### Now let's move over to *Education*:"
      ],
      "metadata": {
        "id": "NoLEGomiTI9o"
      }
    },
    {
      "cell_type": "code",
      "source": [
        "edu_order = {\n",
        "    'illiterate':0,'basic.4y':1,'basic.6y':2,'basic.9y':3,\n",
        "    'high.school':4,'professional.course':5,'university.degree':6,\n",
        "    'unknown':3  # put unknown at mid-rank\n",
        "}\n",
        "df['education_unknown'] = (df['education'] == 'unknown').astype('int8')\n",
        "df['education_ord'] = df['education'].map(edu_order).astype('int8')\n",
        "df.drop(columns=['education'], inplace=True)"
      ],
      "metadata": {
        "id": "1YOBDpE1S7Bs"
      },
      "execution_count": null,
      "outputs": []
    },
    {
      "cell_type": "markdown",
      "source": [
        "### Housing:\n",
        "This variable showcase `yes=21576 (52.4%) | no=18622 (45.2%) | unknown=990 (24%) `, therefore, we can handle the Unknown values by expanding them with the `pd.get_dummies` method."
      ],
      "metadata": {
        "id": "X7zm9NADWcwu"
      }
    },
    {
      "cell_type": "code",
      "source": [
        "dummies = pd.get_dummies(df['housing'], prefix='housing', drop_first=False, dtype='int8')\n",
        "df.drop(columns=['housing'], inplace=True)\n",
        "df = df.join(dummies)"
      ],
      "metadata": {
        "id": "JhQTyA0fTP0L"
      },
      "execution_count": null,
      "outputs": []
    },
    {
      "cell_type": "markdown",
      "source": [
        "### Job Feature:"
      ],
      "metadata": {
        "id": "4FNoijZNYQUW"
      }
    },
    {
      "cell_type": "code",
      "source": [
        "# First, we fix a typo in one of the job values (i.e. 'admin.' to -> 'admin')\n",
        "\n",
        "df['job'] = df['job'].replace({'admin.':'admin'})\n",
        "print('job         →', df['job'].unique())"
      ],
      "metadata": {
        "id": "tem9_esESBPz"
      },
      "execution_count": null,
      "outputs": []
    },
    {
      "cell_type": "code",
      "source": [
        "df = df.join(pd.get_dummies(df.pop('job'), prefix='job', drop_first=False, dtype='int8'))"
      ],
      "metadata": {
        "id": "ibByrt75YTqa"
      },
      "execution_count": null,
      "outputs": []
    },
    {
      "cell_type": "markdown",
      "source": [
        "### Loan & Marital:"
      ],
      "metadata": {
        "id": "ygsUWFUXa-FC"
      }
    },
    {
      "cell_type": "code",
      "source": [
        "df = df.join(pd.get_dummies(df.pop('loan'), prefix='loan', drop_first=False, dtype='int8'))\n",
        "\n",
        "df = df.join(pd.get_dummies(df.pop('marital'), prefix='marital', drop_first=False, dtype='int8'))"
      ],
      "metadata": {
        "id": "MXq5sRIWbDg7"
      },
      "execution_count": null,
      "outputs": []
    },
    {
      "cell_type": "markdown",
      "source": [
        "### Now, let's move over to the last four categorical features and analyse how to handle them:"
      ],
      "metadata": {
        "id": "J9yGLNWncTbC"
      }
    },
    {
      "cell_type": "code",
      "source": [
        "for c in ['contact','month','day_of_week', 'poutcome']:\n",
        "    vc = df[c].value_counts()\n",
        "    tot = int(vc.sum())\n",
        "    print(f\"\\n{c} (n={tot})\")\n",
        "    print((vc.astype(str) + \" (\" + (vc*100/tot).round(1).astype(str) + \"%)\").to_string())"
      ],
      "metadata": {
        "id": "YIPmbvmHZ11S"
      },
      "execution_count": null,
      "outputs": []
    },
    {
      "cell_type": "markdown",
      "source": [
        "### Let's perform OneHot Econding for such features `('contact','day_of_week', 'poutcome', 'month_qtr')`:\n",
        "### For the latter one, we will first create a new feature named 'prev_contacted' indicating whether that person has already been contacted or not. Then, create the OHE representation."
      ],
      "metadata": {
        "id": "CsZRoSSodgPJ"
      }
    },
    {
      "cell_type": "code",
      "source": [
        "df = df.join(pd.get_dummies(df.pop('contact'),     prefix='contact', dtype='int8'))\n",
        "df = df.join(pd.get_dummies(df.pop('day_of_week'), prefix='dow',     dtype='int8'))\n",
        "df = df.join(pd.get_dummies(df.pop('month_qtr'), prefix='quarter_ID',dtype='int8'))\n",
        "df['prev_contacted'] = (df['poutcome'] != 'nonexistent').astype('int8')\n",
        "df = df.join(pd.get_dummies(df.pop('poutcome'), prefix='previous_outcome',dtype='int8'))"
      ],
      "metadata": {
        "id": "gV60YyWfbVKG"
      },
      "execution_count": null,
      "outputs": []
    },
    {
      "cell_type": "markdown",
      "source": [
        "### Now that we have gained a better understanding of our categorical features, we can move on towards numerical:"
      ],
      "metadata": {
        "id": "AIRIZNAH-haf"
      }
    },
    {
      "cell_type": "code",
      "source": [
        "print('Numerical values by column:')\n",
        "\n",
        "display(df.describe())\n"
      ],
      "metadata": {
        "id": "Gm1t3f4tYQg1"
      },
      "execution_count": null,
      "outputs": []
    },
    {
      "cell_type": "code",
      "source": [
        "df = df.rename(columns={\n",
        "    'emp.var.rate': 'employment_variation_rate',\n",
        "    'cons.price.idx': 'consumer_price_index',\n",
        "    'cons.conf.idx': 'consumer_confidence_index',\n",
        "    'euribor3m': 'euribor_3_month_rate',\n",
        "    'nr.employed': 'number_of_employees',\n",
        "    'previous': 'n_previous_contacts'\n",
        "})"
      ],
      "metadata": {
        "id": "-3L3xgL0Ymds"
      },
      "execution_count": null,
      "outputs": []
    },
    {
      "cell_type": "markdown",
      "source": [
        "### Before proceeding, we need to remove the `Duration` column as advised also in the dataset description. We'll do this for a dual reason: when forecasting `y`, we don't know in advance how much the call lasted and, if we were to keep it in the training set, then, we would be shaping on noise rather than signal."
      ],
      "metadata": {
        "id": "Lh57NagYTFxX"
      }
    },
    {
      "cell_type": "code",
      "source": [
        "df = df.drop(columns=['duration'])"
      ],
      "metadata": {
        "id": "nw2Tefs5wBOX"
      },
      "execution_count": null,
      "outputs": []
    },
    {
      "cell_type": "markdown",
      "source": [
        "### Train-Validate-Test Split:\n",
        "\n",
        "Since our data is following a temporal series (march:dec) we cannot split with the classic sklearn train_test split due to a concrete data leak risk. Therefore we are going to conduce a small EDA to assess whether a 6-2-2 scheme following the temporal distribution would make more sense."
      ],
      "metadata": {
        "id": "pFXU9sol8n4a"
      }
    },
    {
      "cell_type": "code",
      "source": [
        "# Plotting style for charts\n",
        "plt.style.use('fivethirtyeight')\n",
        "b_dark, b_mid, b_light = \"#2C7FB8\", \"#6BAED6\", \"#BBD7EA\""
      ],
      "metadata": {
        "id": "oIu9L5d4WC6v"
      },
      "execution_count": null,
      "outputs": []
    },
    {
      "cell_type": "code",
      "source": [
        "train_m = ['mar','apr','may','jun','jul','aug']\n",
        "val_m   = ['sep','oct']\n",
        "test_m  = ['nov','dec']\n",
        "m_train = df['month'].isin(train_m)\n",
        "m_val   = df['month'].isin(val_m)\n",
        "m_test  = df['month'].isin(test_m)\n",
        "\n",
        "df = df.join(pd.get_dummies(df.pop('month'), prefix='month', dtype='int8'))\n",
        "\n",
        "X = df.drop(columns=['y']); y = df['y']\n",
        "X_train, y_train = X[m_train], y[m_train]\n",
        "X_val,   y_val   = X[m_val],   y[m_val]\n",
        "X_test,  y_test  = X[m_test],  y[m_test]\n",
        "\n",
        "print(\" Train months:\", train_m, '\\n', \"Validation months:\", val_m, \"\\n\",\"Testing momths:\", test_m)"
      ],
      "metadata": {
        "id": "Hb2LSv48-heg"
      },
      "execution_count": null,
      "outputs": []
    },
    {
      "cell_type": "markdown",
      "source": [
        "### Now we can perform OHE on the `month` column and finally drop it:"
      ],
      "metadata": {
        "id": "uOZLlFAkJiNl"
      }
    },
    {
      "cell_type": "code",
      "source": [
        "# --- 2) quick EDA ---\n",
        "rates = pd.Series({'Train': y_train.mean(), 'Val': y_val.mean(), 'Test': y_test.mean()}).reindex(['Train','Val','Test']).astype(float)\n",
        "sizes = pd.Series({'Train': len(y_train),   'Val': len(y_val),   'Test': len(y_test)}).reindex(rates.index)\n",
        "\n",
        "fig, ax = plt.subplots(figsize=(6,4))\n",
        "rates.plot(kind='bar', color=b_mid, edgecolor=b_dark, rot=0, ax=ax)\n",
        "ax.yaxis.set_major_formatter(PercentFormatter(1.0))\n",
        "ax.set_ylim(0, 1); ax.set_ylabel('Deposit rate'); ax.set_title('Deposit rate by split')\n",
        "ax.grid(axis='y', alpha=0.2)\n",
        "\n",
        "for i, (split, val) in enumerate(rates.items()):\n",
        "    ax.text(i, val + 0.02, f\"{val:.1%}\\n(n={sizes[split]})\", ha='center', va='bottom', fontsize=9)\n",
        "\n",
        "plt.tight_layout(); plt.show()"
      ],
      "metadata": {
        "id": "kQVIW-XyDija"
      },
      "execution_count": null,
      "outputs": []
    },
    {
      "cell_type": "code",
      "source": [
        "# --- 3) preprocessing (no categoricals → passthrough) ---\n",
        "num_cols = X_train.columns.tolist()\n",
        "preprocess = 'passthrough'"
      ],
      "metadata": {
        "id": "Ejev9Nu-PmVK"
      },
      "execution_count": null,
      "outputs": []
    },
    {
      "cell_type": "code",
      "source": [
        "# --- 4) Baseline Decision Tree (Gini) ---\n",
        "dt = Pipeline([\n",
        "    ('prep', preprocess),\n",
        "    ('clf', DecisionTreeClassifier(criterion='gini', random_state=42))\n",
        "])\n",
        "\n",
        "display(X_train)\n",
        "\n",
        "dt.fit(X_train, y_train)\n",
        "print(f\"Baseline DT | train acc: {dt.score(X_train,y_train):.3f} | val acc: {dt.score(X_val,y_val):.3f}\")\n",
        "\n",
        "# --- 5) Hyperparameter tuning (same as before) ---\n",
        "param_grid = {\n",
        "    'clf__max_depth': [None, 4, 6, 8, 10, 12],\n",
        "    'clf__min_samples_split': [2, 20, 100],\n",
        "    'clf__ccp_alpha': [0.0, 1e-4, 1e-3, 1e-2],\n",
        "}\n",
        "cv = StratifiedKFold(n_splits=5, shuffle=True, random_state=42)\n",
        "grid = GridSearchCV(dt, param_grid=param_grid, cv=cv, scoring='accuracy', n_jobs=-1, refit=True)\n",
        "grid.fit(X_train, y_train)\n",
        "\n",
        "best_dt = grid.best_estimator_\n",
        "print(\"Best params:\", grid.best_params_)\n",
        "print(\"Best CV acc:\", grid.best_score_)\n",
        "print(\"Val acc    :\", best_dt.score(X_val,  y_val))\n",
        "print(\"Test acc   :\", best_dt.score(X_test, y_test))"
      ],
      "metadata": {
        "id": "b_4eVtn5PocB"
      },
      "execution_count": null,
      "outputs": []
    },
    {
      "cell_type": "code",
      "source": [
        "depths = [1, 2, 3, 4, 6, 8, 10, 12, None]\n",
        "tr, va = [], []\n",
        "for d in depths:\n",
        "    clf = DecisionTreeClassifier(criterion='gini', max_depth=d, random_state=42)\n",
        "    clf.fit(X_train, y_train)\n",
        "    tr.append(clf.score(X_train, y_train))\n",
        "    va.append(clf.score(X_val,   y_val))\n",
        "\n",
        "plt.figure(figsize=(6,3))\n",
        "plt.plot([str(d) for d in depths], tr, marker='o', label='Train')\n",
        "plt.plot([str(d) for d in depths], va, marker='o', label='Validation')\n",
        "plt.xlabel('max_depth'); plt.ylabel('Accuracy')\n",
        "plt.title('Decision Tree: under/overfitting'); plt.legend(); plt.tight_layout(); plt.show()"
      ],
      "metadata": {
        "id": "3H6Z5kb4V_UM"
      },
      "execution_count": null,
      "outputs": []
    },
    {
      "cell_type": "code",
      "source": [
        "# Fit an unpruned tree to get the pruning path, then sweep alphas\n",
        "clf0 = DecisionTreeClassifier(criterion='gini', random_state=42)\n",
        "clf0.fit(X_train, y_train)\n",
        "path = clf0.cost_complexity_pruning_path(X_train, y_train)\n",
        "alphas = path.ccp_alphas\n",
        "\n",
        "tr, va = [], []\n",
        "for a in alphas:\n",
        "    clf = DecisionTreeClassifier(criterion='gini', ccp_alpha=a, random_state=42)\n",
        "    clf.fit(X_train, y_train)\n",
        "    tr.append(clf.score(X_train, y_train))\n",
        "    va.append(clf.score(X_val,   y_val))\n",
        "\n",
        "plt.figure(figsize=(5,3.2))\n",
        "plt.plot(alphas, tr, label='Train'); plt.plot(alphas, va, label='Validation')\n",
        "plt.xlabel('ccp_alpha'); plt.ylabel('Accuracy'); plt.title('Pruning path')\n",
        "plt.legend(); plt.tight_layout(); plt.show()\n",
        "\n",
        "# Choose alpha with best val accuracy, refit on train, evaluate on test\n",
        "best_a = alphas[int(np.argmax(va))]\n",
        "dt_pruned = DecisionTreeClassifier(criterion='gini', ccp_alpha=best_a, random_state=42)\n",
        "dt_pruned.fit(X_train, y_train)\n",
        "print(f\"Pruned (alpha={best_a:.4g}) | train: {dt_pruned.score(X_train,y_train):.3f} | \"\n",
        "      f\"val: {dt_pruned.score(X_val,y_val):.3f} | test: {dt_pruned.score(X_test,y_test):.3f}\")\n"
      ],
      "metadata": {
        "id": "bTL6Xf1zW_fP"
      },
      "execution_count": null,
      "outputs": []
    },
    {
      "cell_type": "code",
      "source": [
        "# Fit an unpruned tree to get the pruning path, then sweep alphas\n",
        "clf0 = DecisionTreeClassifier(criterion='gini', random_state=42)\n",
        "clf0.fit(X_train, y_train)\n",
        "path = clf0.cost_complexity_pruning_path(X_train, y_train)\n",
        "alphas = path.ccp_alphas\n",
        "\n",
        "tr, va = [], []\n",
        "for a in alphas:\n",
        "    clf = DecisionTreeClassifier(criterion='gini', ccp_alpha=a, random_state=42)\n",
        "    clf.fit(X_train, y_train)\n",
        "    tr.append(clf.score(X_train, y_train))\n",
        "    va.append(clf.score(X_val,   y_val))\n",
        "\n",
        "plt.figure(figsize=(5,3.2))\n",
        "plt.plot(alphas, tr, label='Train'); plt.plot(alphas, va, label='Validation')\n",
        "plt.xlabel('ccp_alpha'); plt.ylabel('Accuracy'); plt.title('Pruning path')\n",
        "plt.legend(); plt.tight_layout(); plt.show()\n",
        "\n",
        "# Choose alpha with best val accuracy, refit on train, evaluate on test\n",
        "best_a = alphas[int(np.argmax(va))]\n",
        "dt_pruned = DecisionTreeClassifier(criterion='gini', ccp_alpha=best_a, random_state=42)\n",
        "dt_pruned.fit(X_train, y_train)\n",
        "print(f\"Pruned (alpha={best_a:.4g}) | train: {dt_pruned.score(X_train,y_train):.3f} | \"\n",
        "      f\"val: {dt_pruned.score(X_val,y_val):.3f} | test: {dt_pruned.score(X_test,y_test):.3f}\")\n"
      ],
      "metadata": {
        "id": "8c0clIKYXC39"
      },
      "execution_count": null,
      "outputs": []
    },
    {
      "cell_type": "code",
      "source": [
        "depth = 6  # pick a reasonable depth from the plot\n",
        "mins = [2, 10, 20, 50, 100, 200]\n",
        "for m in mins:\n",
        "    clf = DecisionTreeClassifier(criterion='gini', max_depth=depth, min_samples_split=m, random_state=42)\n",
        "    clf.fit(X_train, y_train)\n",
        "    print(f\"depth={depth:<2} | min_samples_split={m:<3} | \"\n",
        "          f\"train={clf.score(X_train,y_train):.3f} | val={clf.score(X_val,y_val):.3f}\")\n"
      ],
      "metadata": {
        "id": "GKvfKDHpXE1r"
      },
      "execution_count": null,
      "outputs": []
    },
    {
      "cell_type": "code",
      "source": [
        "baseline_dt = Pipeline(steps=dt.steps)  # copy your earlier baseline pipeline\n",
        "baseline_dt.set_params(clf__max_depth=None, clf__min_samples_split=2, clf__ccp_alpha=0.0)\n",
        "baseline_dt.fit(X_train, y_train)\n",
        "\n",
        "print(f\"Baseline DT  | train: {baseline_dt.score(X_train,y_train):.3f} | \"\n",
        "      f\"val: {baseline_dt.score(X_val,y_val):.3f} | test: {baseline_dt.score(X_test,y_test):.3f}\")\n",
        "print(f\"Tuned DT     | train: {best_dt.score(X_train,y_train):.3f} | \"\n",
        "      f\"val: {best_dt.score(X_val,y_val):.3f} | test: {best_dt.score(X_test,y_test):.3f}\")\n"
      ],
      "metadata": {
        "id": "-75KpvOjXGu7"
      },
      "execution_count": null,
      "outputs": []
    },
    {
      "cell_type": "code",
      "source": [
        "df.info()"
      ],
      "metadata": {
        "id": "nwo2nHiJEuHa"
      },
      "execution_count": null,
      "outputs": []
    }
  ]
}